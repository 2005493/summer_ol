{
  "nbformat": 4,
  "nbformat_minor": 0,
  "metadata": {
    "colab": {
      "name": "Untitled2.ipynb",
      "provenance": []
    },
    "kernelspec": {
      "name": "python3",
      "display_name": "Python 3"
    },
    "language_info": {
      "name": "python"
    }
  },
  "cells": [
    {
      "cell_type": "markdown",
      "metadata": {
        "id": "UvVh7gery1DU"
      },
      "source": [
        "## **1)In how many cities Summer Olympics is held so far?**\n",
        "\n",
        "---\n",
        "\n"
      ]
    },
    {
      "cell_type": "code",
      "metadata": {
        "id": "AEzByE01fOES",
        "colab": {
          "base_uri": "https://localhost:8080/"
        },
        "outputId": "19841a53-83af-4b47-91f2-d205e27f7e6f"
      },
      "source": [
        "import pandas as pd\n",
        "df=pd.read_csv(\"summer.csv\")\n",
        "\n",
        "#In how many cities Summer Olympics is held so far\n",
        "print(\"TOTAL NUMBER OF CITIES THAT TOOK PART IN SUMMER OLYMPICS:\")\n",
        "for cities in df[\"City\"].unique():\n",
        "    print(cities,\":\",len(df[df[\"City\"]==cities]))\n",
        "\n",
        "\n",
        "\n",
        "#tot_city=len(df[df[\"City\"].unique()])\n",
        "tot_city=len(df[\"City\"].unique())\n",
        "print(f\"\\n\\nTOTAL NUMBER OF CITIES ARE:{tot_city}\")"
      ],
      "execution_count": 31,
      "outputs": [
        {
          "output_type": "stream",
          "name": "stdout",
          "text": [
            "TOTAL NUMBER OF CITIES THAT TOOK PART IN SUMMER OLYMPICS:\n",
            "Athens : 2149\n",
            "Paris : 1396\n",
            "St Louis : 470\n",
            "London : 3567\n",
            "Stockholm : 885\n",
            "Antwerp : 1298\n",
            "Amsterdam : 710\n",
            "Los Angeles : 2074\n",
            "Berlin : 875\n",
            "Helsinki : 889\n",
            "Melbourne / Stockholm : 885\n",
            "Rome : 882\n",
            "Tokyo : 1010\n",
            "Mexico : 1031\n",
            "Munich : 1185\n",
            "Montreal : 1305\n",
            "Moscow : 1387\n",
            "Seoul : 1546\n",
            "Barcelona : 1705\n",
            "Atlanta : 1859\n",
            "Sydney : 2015\n",
            "Beijing : 2042\n",
            "\n",
            "\n",
            "TOTAL NUMBER OF CITIES ARE:22\n"
          ]
        }
      ]
    },
    {
      "cell_type": "markdown",
      "metadata": {
        "id": "kKdyPTuqyzFm"
      },
      "source": [
        ""
      ]
    },
    {
      "cell_type": "markdown",
      "metadata": {
        "id": "V_V2Qo4IxnaJ"
      },
      "source": [
        "# **2)Which sport is having most number of Gold Medals so far?**\n"
      ]
    },
    {
      "cell_type": "code",
      "metadata": {
        "colab": {
          "base_uri": "https://localhost:8080/",
          "height": 449
        },
        "id": "RrhvOE22-lpg",
        "outputId": "b0275efd-b715-4bce-82e9-0f93235d5c46"
      },
      "source": [
        "import pandas as pd\n",
        "df=pd.read_csv(\"summer.csv\")\n",
        "data=[]\n",
        "jk=df[df[\"Medal\"]==\"Gold\"]\n",
        "for sports in jk[\"Sport\"].unique():\n",
        "  num1=len(jk[jk[\"Sport\"]==sports])\n",
        "  data.append([sports,num1])\n",
        "\n",
        "data=pd.DataFrame(data,columns=[\"Sport\",\"Numbers Of Gold Medals Won\"])\n",
        "\n",
        "data=data.sort_values(by=\"Numbers Of Gold Medals Won\",ascending=False)\n",
        "data=data.head()\n",
        "print(data)\n",
        "graph=data.plot(x=\"Sport\",y=\"Numbers Of Gold Medals Won\",kind=\"bar\")\n",
        "print(graph)"
      ],
      "execution_count": 57,
      "outputs": [
        {
          "output_type": "stream",
          "name": "stdout",
          "text": [
            "         Sport  Numbers Of Gold Medals Won\n",
            "0     Aquatics                        1421\n",
            "1    Athletics                        1215\n",
            "17      Rowing                         890\n",
            "4   Gymnastics                         820\n",
            "3      Fencing                         552\n",
            "AxesSubplot(0.125,0.125;0.775x0.755)\n"
          ]
        },
        {
          "output_type": "display_data",
          "data": {
            "image/png": "[encoded data removed]",
            "text/plain": [
              "<Figure size 432x288 with 1 Axes>"
            ]
          },
          "metadata": {
            "needs_background": "light"
          }
        }
      ]
    },
    {
      "cell_type": "markdown",
      "metadata": {
        "id": "28Gt_Rr959KR"
      },
      "source": [
        "# **3)Which sport is having most number of medals so far?** "
      ]
    },
    {
      "cell_type": "code",
      "metadata": {
        "colab": {
          "base_uri": "https://localhost:8080/",
          "height": 449
        },
        "id": "R5pGLylScRbx",
        "outputId": "17b56ba3-70db-4bb6-c017-531ae29d308b"
      },
      "source": [
        "import pandas as pd\n",
        "df=pd.read_csv(\"summer.csv\")\n",
        "data1=[]\n",
        "for sport_not_gold in df[\"Sport\"].unique():\n",
        "   \n",
        "    data1.append([sport_not_gold,len(df[df[\"Sport\"]==sport_not_gold])])\n",
        "\n",
        "data1=pd.DataFrame(data1,columns=[\"Sport1\",\"freq\"])\n",
        "data1=data1.sort_values(by=\"freq\",ascending=False)\n",
        "data1=data1.head()\n",
        "print(data1)\n",
        "graph1=data1.plot(x=\"Sport1\",y=\"freq\",kind=\"bar\")\n",
        "print(graph1)"
      ],
      "execution_count": 58,
      "outputs": [
        {
          "output_type": "stream",
          "name": "stdout",
          "text": [
            "        Sport1  freq\n",
            "0     Aquatics  4170\n",
            "1    Athletics  3638\n",
            "17      Rowing  2667\n",
            "4   Gymnastics  2307\n",
            "3      Fencing  1613\n",
            "AxesSubplot(0.125,0.125;0.775x0.755)\n"
          ]
        },
        {
          "output_type": "display_data",
          "data": {
            "image/png": "[encoded data removed]",
            "text/plain": [
              "<Figure size 432x288 with 1 Axes>"
            ]
          },
          "metadata": {
            "needs_background": "light"
          }
        }
      ]
    },
    {
      "cell_type": "markdown",
      "metadata": {
        "id": "pZkxbYUe_RK7"
      },
      "source": [
        "# **4)Which player has won most number of medals?**"
      ]
    },
    {
      "cell_type": "code",
      "metadata": {
        "colab": {
          "base_uri": "https://localhost:8080/",
          "height": 509
        },
        "id": "jpu9CyWhE6Iy",
        "outputId": "f09e5022-9453-4444-a1c2-60232c7b5e1f"
      },
      "source": [
        "import pandas as pd\n",
        "df=pd.read_csv(\"summer.csv\")\n",
        "data2=[]\n",
        "\n",
        "for player in df[\"Athlete\"].unique():\n",
        "    data2.append([player,len(df[df[\"Athlete\"]==player])])\n",
        "data2=pd.DataFrame(data2,columns=[\"Athlete\",\"Medal_player\"])\n",
        "data2=data2.sort_values(by=\"Medal_player\",ascending=False)\n",
        "data2=data2.head()\n",
        "print(data2)\n",
        "graph2=data2.plot(x=\"Athlete\",y=\"Medal_player\",kind=\"bar\")\n",
        "print(graph2)\n"
      ],
      "execution_count": 52,
      "outputs": [
        {
          "output_type": "stream",
          "name": "stdout",
          "text": [
            "                    Athlete  Medal_player\n",
            "18640       PHELPS, Michael            22\n",
            "7197       LATYNINA, Larisa            18\n",
            "9948     ANDRIANOV, Nikolay            15\n",
            "6591           ONO, Takashi            13\n",
            "5103   MANGIAROTTI, Edoardo            13\n",
            "AxesSubplot(0.125,0.125;0.775x0.755)\n"
          ]
        },
        {
          "output_type": "display_data",
          "data": {
            "image/png": "[encoded data removed]",
            "text/plain": [
              "<Figure size 432x288 with 1 Axes>"
            ]
          },
          "metadata": {
            "needs_background": "light"
          }
        }
      ]
    },
    {
      "cell_type": "markdown",
      "metadata": {
        "id": "gj3mnambGM3l"
      },
      "source": [
        "# **5)Which player has won most number Gold Medals of medals?**"
      ]
    },
    {
      "cell_type": "code",
      "metadata": {
        "colab": {
          "base_uri": "https://localhost:8080/",
          "height": 475
        },
        "id": "fhtsQDAqE5s7",
        "outputId": "68fcbc41-332a-4604-a532-316689c80f35"
      },
      "source": [
        "import pandas as pd\n",
        "df=pd.read_csv(\"summer.csv\")\n",
        "data3=[]\n",
        "jk1=df[df[\"Medal\"]==\"Gold\"]\n",
        "for player_gold in jk1[\"Athlete\"].unique():\n",
        "  num2=len(jk1[jk1[\"Athlete\"]==player_gold])\n",
        "  data3.append([player_gold,num2])\n",
        "data3=pd.DataFrame(data3,columns=[\"Name\",\"frq\"])\n",
        "data3=data3.sort_values(by=\"frq\",ascending=False)\n",
        "data3=data3.head() \n",
        "print(data3)\n",
        "graph3=data3.plot(x=\"Name\",y=\"frq\",kind=\"bar\")\n",
        "print(graph3)"
      ],
      "execution_count": 6,
      "outputs": [
        {
          "output_type": "stream",
          "name": "stdout",
          "text": [
            "                  Name  frq\n",
            "6851   PHELPS, Michael   18\n",
            "3320       SPITZ, Mark    9\n",
            "2714  LATYNINA, Larisa    9\n",
            "4630       LEWIS, Carl    9\n",
            "907       NURMI, Paavo    9\n",
            "AxesSubplot(0.125,0.125;0.775x0.755)\n"
          ]
        },
        {
          "output_type": "display_data",
          "data": {
            "image/png": "[encoded data removed]",
            "text/plain": [
              "<Figure size 432x288 with 1 Axes>"
            ]
          },
          "metadata": {
            "needs_background": "light"
          }
        }
      ]
    },
    {
      "cell_type": "markdown",
      "metadata": {
        "id": "OTn4UWm3Kp2l"
      },
      "source": [
        "# **6)In which year India won first Gold Medal in Summer Olympics?**"
      ]
    },
    {
      "cell_type": "code",
      "metadata": {
        "colab": {
          "base_uri": "https://localhost:8080/"
        },
        "id": "IVQBAK-ZKo3-",
        "outputId": "7ac8bcf9-352c-4ebc-c917-58371f1cc74f"
      },
      "source": [
        "import pandas as pd\n",
        "df=pd.read_csv(\"summer.csv\")\n",
        "data4=[]\n",
        "jk4=df[df[\"Country\"]==\"IND\"]\n",
        "jk4_1=jk4[jk4[\"Medal\"]==\"Gold\"]\n",
        "for years in jk4_1[\"Year\"].unique():\n",
        "  data4.append([years])\n",
        "print(\"the year in which india had won its first gold medal is:\",*data4[0])"
      ],
      "execution_count": 59,
      "outputs": [
        {
          "output_type": "stream",
          "name": "stdout",
          "text": [
            "the year in which india had won its first gold medal is: 1928\n"
          ]
        }
      ]
    },
    {
      "cell_type": "markdown",
      "metadata": {
        "id": "Y6et1rbwQcKl"
      },
      "source": [
        "# **7)Which event is most popular in terms on number of players?**"
      ]
    },
    {
      "cell_type": "code",
      "metadata": {
        "colab": {
          "base_uri": "https://localhost:8080/",
          "height": 481
        },
        "id": "NidveQpCQbCZ",
        "outputId": "a8d6acd3-b829-407a-8a60-1013e69276ff"
      },
      "source": [
        "import pandas as pd\n",
        "df=pd.read_csv(\"summer.csv\")\n",
        "data5=[]\n",
        "for event in df[\"Event\"].unique():\n",
        "     data5.append([event,len(df[df[\"Event\"]==event])])\n",
        "\n",
        "data5=pd.DataFrame(data5,columns=[\"Event\",\"num\"])\n",
        "data5=data5.sort_values(by=\"num\",ascending=False)\n",
        "data5=data5.head()\n",
        "print(data5)\n",
        "graph6=data5.plot(x=\"Event\",y=\"num\",kind=\"bar\")\n",
        "print(graph6)\n"
      ],
      "execution_count": 25,
      "outputs": [
        {
          "output_type": "stream",
          "name": "stdout",
          "text": [
            "                Event   num\n",
            "80           Football  1497\n",
            "176            Hockey  1422\n",
            "138  Team Competition  1147\n",
            "327        Basketball  1012\n",
            "337          Handball   973\n",
            "AxesSubplot(0.125,0.125;0.775x0.755)\n"
          ]
        },
        {
          "output_type": "display_data",
          "data": {
            "image/png": "[encoded data removed]",
            "text/plain": [
              "<Figure size 432x288 with 1 Axes>"
            ]
          },
          "metadata": {
            "needs_background": "light"
          }
        }
      ]
    },
    {
      "cell_type": "markdown",
      "metadata": {
        "id": "QHTgVKjrXNMx"
      },
      "source": [
        "# **8)Which sport is having most female Gold Medalists?**"
      ]
    },
    {
      "cell_type": "code",
      "metadata": {
        "colab": {
          "base_uri": "https://localhost:8080/",
          "height": 451
        },
        "id": "dtaAgFD0XL7s",
        "outputId": "2dda79ee-58a1-410b-b0e0-47ff854085e5"
      },
      "source": [
        "import pandas as pd\n",
        "df=pd.read_csv(\"summer.csv\")\n",
        "data5=[]\n",
        "jk5=df[df[\"Gender\"]==\"Women\"]\n",
        "jk5_1=jk5[jk5[\"Medal\"]==\"Gold\"]\n",
        "for sports in jk5_1[\"Sport\"].unique():\n",
        "  num2=len(jk5_1[jk5_1[\"Sport\"]==sports])\n",
        "  data5.append([sports,num2])\n",
        "data5=pd.DataFrame(data5,columns=[\"Sports_girls\",\"freq_girls\"])\n",
        "data5=data5.sort_values(by=\"freq_girls\",ascending=False)\n",
        "data5=data5.head()\n",
        "print(data5)\n",
        "\n",
        "graph7=data5.plot(x=\"Sports_girls\",y=\"freq_girls\",kind=\"bar\")\n",
        "print(graph7)\n"
      ],
      "execution_count": 60,
      "outputs": [
        {
          "output_type": "stream",
          "name": "stdout",
          "text": [
            "   Sports_girls  freq_girls\n",
            "4      Aquatics         589\n",
            "7     Athletics         389\n",
            "8    Gymnastics         268\n",
            "14       Rowing         217\n",
            "11   Volleyball         166\n",
            "AxesSubplot(0.125,0.125;0.775x0.755)\n"
          ]
        },
        {
          "output_type": "display_data",
          "data": {
            "image/png": "[encoded data removed]",
            "text/plain": [
              "<Figure size 432x288 with 1 Axes>"
            ]
          },
          "metadata": {
            "needs_background": "light"
          }
        }
      ]
    },
    {
      "cell_type": "markdown",
      "metadata": {
        "id": "qT3YmA4dREGE"
      },
      "source": [
        ""
      ]
    }
  ]
}